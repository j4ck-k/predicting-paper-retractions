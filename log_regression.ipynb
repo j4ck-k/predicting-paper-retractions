{
 "cells": [
  {
   "cell_type": "code",
   "execution_count": 55,
   "id": "e3e892b0",
   "metadata": {},
   "outputs": [],
   "source": [
    "import pandas as pd\n",
    "import numpy as np\n",
    "import matplotlib.pyplot as plt\n",
    "import seaborn as sns\n",
    "sns.set_style('whitegrid')\n"
   ]
  },
  {
   "cell_type": "code",
   "execution_count": 56,
   "id": "5809f066",
   "metadata": {},
   "outputs": [],
   "source": [
    "data  = pd.read_pickle('./Data/OpenAlex/openalex-data-plosone-2000-2010-train-04.pkl')"
   ]
  },
  {
   "cell_type": "code",
   "execution_count": 57,
   "id": "be017c4d",
   "metadata": {},
   "outputs": [
    {
     "data": {
      "text/html": [
       "<div>\n",
       "<style scoped>\n",
       "    .dataframe tbody tr th:only-of-type {\n",
       "        vertical-align: middle;\n",
       "    }\n",
       "\n",
       "    .dataframe tbody tr th {\n",
       "        vertical-align: top;\n",
       "    }\n",
       "\n",
       "    .dataframe thead th {\n",
       "        text-align: right;\n",
       "    }\n",
       "</style>\n",
       "<table border=\"1\" class=\"dataframe\">\n",
       "  <thead>\n",
       "    <tr style=\"text-align: right;\">\n",
       "      <th></th>\n",
       "      <th>id</th>\n",
       "      <th>title</th>\n",
       "      <th>publication_year</th>\n",
       "      <th>countries_distinct_count</th>\n",
       "      <th>institutions_distinct_count</th>\n",
       "      <th>referenced_works_count</th>\n",
       "      <th>cited_by_count</th>\n",
       "      <th>authors_distinct_count</th>\n",
       "      <th>any_author_has_retraction</th>\n",
       "      <th>min_retracted_author_rank</th>\n",
       "      <th>...</th>\n",
       "      <th>has_10pct_retracted_author</th>\n",
       "      <th>top_percentile_retracted_author</th>\n",
       "      <th>frac_author_repeat_offenders</th>\n",
       "      <th>any_institution_has_retraction</th>\n",
       "      <th>min_retracted_institution_rank</th>\n",
       "      <th>has_1pct_retracted_institution</th>\n",
       "      <th>has_5pct_retracted_institution</th>\n",
       "      <th>has_10pct_retracted_institution</th>\n",
       "      <th>top_percentile_retracted_institution</th>\n",
       "      <th>is_retracted</th>\n",
       "    </tr>\n",
       "  </thead>\n",
       "  <tbody>\n",
       "    <tr>\n",
       "      <th>0</th>\n",
       "      <td>https://openalex.org/W2031611770</td>\n",
       "      <td>FastTree 2 – Approximately Maximum-Likelihood ...</td>\n",
       "      <td>2010</td>\n",
       "      <td>1</td>\n",
       "      <td>2</td>\n",
       "      <td>30</td>\n",
       "      <td>10411</td>\n",
       "      <td>3</td>\n",
       "      <td>False</td>\n",
       "      <td>-inf</td>\n",
       "      <td>...</td>\n",
       "      <td>False</td>\n",
       "      <td>0.000000</td>\n",
       "      <td>0.0</td>\n",
       "      <td>True</td>\n",
       "      <td>284.0</td>\n",
       "      <td>False</td>\n",
       "      <td>True</td>\n",
       "      <td>True</td>\n",
       "      <td>95.046385</td>\n",
       "      <td>False</td>\n",
       "    </tr>\n",
       "    <tr>\n",
       "      <th>1</th>\n",
       "      <td>https://openalex.org/W2041257508</td>\n",
       "      <td>progressiveMauve: Multiple Genome Alignment wi...</td>\n",
       "      <td>2010</td>\n",
       "      <td>1</td>\n",
       "      <td>2</td>\n",
       "      <td>62</td>\n",
       "      <td>3254</td>\n",
       "      <td>3</td>\n",
       "      <td>False</td>\n",
       "      <td>-inf</td>\n",
       "      <td>...</td>\n",
       "      <td>False</td>\n",
       "      <td>0.000000</td>\n",
       "      <td>0.0</td>\n",
       "      <td>True</td>\n",
       "      <td>257.0</td>\n",
       "      <td>False</td>\n",
       "      <td>True</td>\n",
       "      <td>True</td>\n",
       "      <td>95.518992</td>\n",
       "      <td>False</td>\n",
       "    </tr>\n",
       "    <tr>\n",
       "      <th>2</th>\n",
       "      <td>https://openalex.org/W2169773990</td>\n",
       "      <td>Rapid SNP Discovery and Genetic Mapping Using ...</td>\n",
       "      <td>2008</td>\n",
       "      <td>1</td>\n",
       "      <td>1</td>\n",
       "      <td>18</td>\n",
       "      <td>2920</td>\n",
       "      <td>9</td>\n",
       "      <td>False</td>\n",
       "      <td>-inf</td>\n",
       "      <td>...</td>\n",
       "      <td>False</td>\n",
       "      <td>0.000000</td>\n",
       "      <td>0.0</td>\n",
       "      <td>True</td>\n",
       "      <td>843.0</td>\n",
       "      <td>False</td>\n",
       "      <td>False</td>\n",
       "      <td>False</td>\n",
       "      <td>85.261684</td>\n",
       "      <td>False</td>\n",
       "    </tr>\n",
       "    <tr>\n",
       "      <th>3</th>\n",
       "      <td>https://openalex.org/W2071754162</td>\n",
       "      <td>Source Partitioning Using Stable Isotopes: Cop...</td>\n",
       "      <td>2010</td>\n",
       "      <td>2</td>\n",
       "      <td>3</td>\n",
       "      <td>24</td>\n",
       "      <td>2321</td>\n",
       "      <td>4</td>\n",
       "      <td>False</td>\n",
       "      <td>-inf</td>\n",
       "      <td>...</td>\n",
       "      <td>False</td>\n",
       "      <td>0.000000</td>\n",
       "      <td>0.0</td>\n",
       "      <td>True</td>\n",
       "      <td>414.5</td>\n",
       "      <td>False</td>\n",
       "      <td>False</td>\n",
       "      <td>True</td>\n",
       "      <td>92.762121</td>\n",
       "      <td>False</td>\n",
       "    </tr>\n",
       "    <tr>\n",
       "      <th>4</th>\n",
       "      <td>https://openalex.org/W2135989088</td>\n",
       "      <td>Gut Microbiota in Human Adults with Type 2 Dia...</td>\n",
       "      <td>2010</td>\n",
       "      <td>1</td>\n",
       "      <td>2</td>\n",
       "      <td>36</td>\n",
       "      <td>2293</td>\n",
       "      <td>10</td>\n",
       "      <td>True</td>\n",
       "      <td>4773.5</td>\n",
       "      <td>...</td>\n",
       "      <td>True</td>\n",
       "      <td>88.490293</td>\n",
       "      <td>0.1</td>\n",
       "      <td>True</td>\n",
       "      <td>233.5</td>\n",
       "      <td>False</td>\n",
       "      <td>True</td>\n",
       "      <td>True</td>\n",
       "      <td>95.930334</td>\n",
       "      <td>False</td>\n",
       "    </tr>\n",
       "  </tbody>\n",
       "</table>\n",
       "<p>5 rows × 22 columns</p>\n",
       "</div>"
      ],
      "text/plain": [
       "                                 id  \\\n",
       "0  https://openalex.org/W2031611770   \n",
       "1  https://openalex.org/W2041257508   \n",
       "2  https://openalex.org/W2169773990   \n",
       "3  https://openalex.org/W2071754162   \n",
       "4  https://openalex.org/W2135989088   \n",
       "\n",
       "                                               title publication_year  \\\n",
       "0  FastTree 2 – Approximately Maximum-Likelihood ...             2010   \n",
       "1  progressiveMauve: Multiple Genome Alignment wi...             2010   \n",
       "2  Rapid SNP Discovery and Genetic Mapping Using ...             2008   \n",
       "3  Source Partitioning Using Stable Isotopes: Cop...             2010   \n",
       "4  Gut Microbiota in Human Adults with Type 2 Dia...             2010   \n",
       "\n",
       "  countries_distinct_count institutions_distinct_count referenced_works_count  \\\n",
       "0                        1                           2                     30   \n",
       "1                        1                           2                     62   \n",
       "2                        1                           1                     18   \n",
       "3                        2                           3                     24   \n",
       "4                        1                           2                     36   \n",
       "\n",
       "  cited_by_count authors_distinct_count  any_author_has_retraction  \\\n",
       "0          10411                      3                      False   \n",
       "1           3254                      3                      False   \n",
       "2           2920                      9                      False   \n",
       "3           2321                      4                      False   \n",
       "4           2293                     10                       True   \n",
       "\n",
       "   min_retracted_author_rank  ...  has_10pct_retracted_author  \\\n",
       "0                       -inf  ...                       False   \n",
       "1                       -inf  ...                       False   \n",
       "2                       -inf  ...                       False   \n",
       "3                       -inf  ...                       False   \n",
       "4                     4773.5  ...                        True   \n",
       "\n",
       "   top_percentile_retracted_author  frac_author_repeat_offenders  \\\n",
       "0                         0.000000                           0.0   \n",
       "1                         0.000000                           0.0   \n",
       "2                         0.000000                           0.0   \n",
       "3                         0.000000                           0.0   \n",
       "4                        88.490293                           0.1   \n",
       "\n",
       "   any_institution_has_retraction  min_retracted_institution_rank  \\\n",
       "0                            True                           284.0   \n",
       "1                            True                           257.0   \n",
       "2                            True                           843.0   \n",
       "3                            True                           414.5   \n",
       "4                            True                           233.5   \n",
       "\n",
       "   has_1pct_retracted_institution  has_5pct_retracted_institution  \\\n",
       "0                           False                            True   \n",
       "1                           False                            True   \n",
       "2                           False                           False   \n",
       "3                           False                           False   \n",
       "4                           False                            True   \n",
       "\n",
       "   has_10pct_retracted_institution  top_percentile_retracted_institution  \\\n",
       "0                             True                             95.046385   \n",
       "1                             True                             95.518992   \n",
       "2                            False                             85.261684   \n",
       "3                             True                             92.762121   \n",
       "4                             True                             95.930334   \n",
       "\n",
       "   is_retracted  \n",
       "0         False  \n",
       "1         False  \n",
       "2         False  \n",
       "3         False  \n",
       "4         False  \n",
       "\n",
       "[5 rows x 22 columns]"
      ]
     },
     "execution_count": 57,
     "metadata": {},
     "output_type": "execute_result"
    }
   ],
   "source": [
    "data.dropna\n",
    "data.head()"
   ]
  },
  {
   "cell_type": "code",
   "execution_count": 58,
   "id": "e180b898",
   "metadata": {},
   "outputs": [
    {
     "data": {
      "text/plain": [
       "Index(['id', 'title', 'publication_year', 'countries_distinct_count',\n",
       "       'institutions_distinct_count', 'referenced_works_count',\n",
       "       'cited_by_count', 'authors_distinct_count', 'any_author_has_retraction',\n",
       "       'min_retracted_author_rank', 'has_1pct_retracted_author',\n",
       "       'has_5pct_retracted_author', 'has_10pct_retracted_author',\n",
       "       'top_percentile_retracted_author', 'frac_author_repeat_offenders',\n",
       "       'any_institution_has_retraction', 'min_retracted_institution_rank',\n",
       "       'has_1pct_retracted_institution', 'has_5pct_retracted_institution',\n",
       "       'has_10pct_retracted_institution',\n",
       "       'top_percentile_retracted_institution', 'is_retracted'],\n",
       "      dtype='object')"
      ]
     },
     "execution_count": 58,
     "metadata": {},
     "output_type": "execute_result"
    }
   ],
   "source": [
    "data.columns"
   ]
  },
  {
   "cell_type": "code",
   "execution_count": 59,
   "id": "edc952a5",
   "metadata": {},
   "outputs": [],
   "source": [
    "#sns.pairplot(data,\n",
    "#                y_vars = ['has_1pct_retracted_author', 'has_5pct_retracted_author', 'top_percentile_retracted_author', 'frac_author_repeat_offenders'],\n",
    "#                x_vars = ['has_1pct_retracted_institution', 'has_5pct_retracted_institution', 'top_percentile_retracted_institution'],\n",
    "#                hue = 'is_retracted',\n",
    "#                height = 5)\n",
    "\n",
    "\n",
    "#plt.show()"
   ]
  },
  {
   "cell_type": "code",
   "execution_count": 60,
   "id": "3b771f07",
   "metadata": {},
   "outputs": [
    {
     "name": "stdout",
     "output_type": "stream",
     "text": [
      "<class 'pandas.core.frame.DataFrame'>\n",
      "Index: 45 entries, 1289 to 15302\n",
      "Data columns (total 22 columns):\n",
      " #   Column                                Non-Null Count  Dtype  \n",
      "---  ------                                --------------  -----  \n",
      " 0   id                                    45 non-null     object \n",
      " 1   title                                 45 non-null     object \n",
      " 2   publication_year                      45 non-null     object \n",
      " 3   countries_distinct_count              45 non-null     object \n",
      " 4   institutions_distinct_count           45 non-null     object \n",
      " 5   referenced_works_count                45 non-null     object \n",
      " 6   cited_by_count                        45 non-null     object \n",
      " 7   authors_distinct_count                45 non-null     object \n",
      " 8   any_author_has_retraction             45 non-null     bool   \n",
      " 9   min_retracted_author_rank             45 non-null     float64\n",
      " 10  has_1pct_retracted_author             45 non-null     bool   \n",
      " 11  has_5pct_retracted_author             45 non-null     bool   \n",
      " 12  has_10pct_retracted_author            45 non-null     bool   \n",
      " 13  top_percentile_retracted_author       45 non-null     float64\n",
      " 14  frac_author_repeat_offenders          45 non-null     float64\n",
      " 15  any_institution_has_retraction        45 non-null     bool   \n",
      " 16  min_retracted_institution_rank        45 non-null     float64\n",
      " 17  has_1pct_retracted_institution        45 non-null     bool   \n",
      " 18  has_5pct_retracted_institution        45 non-null     bool   \n",
      " 19  has_10pct_retracted_institution       45 non-null     bool   \n",
      " 20  top_percentile_retracted_institution  45 non-null     float64\n",
      " 21  is_retracted                          45 non-null     bool   \n",
      "dtypes: bool(9), float64(5), object(8)\n",
      "memory usage: 5.3+ KB\n"
     ]
    }
   ],
   "source": [
    "retracted = data[data['is_retracted']==True]\n",
    "retracted.info()"
   ]
  },
  {
   "cell_type": "code",
   "execution_count": 61,
   "id": "db358ae8",
   "metadata": {},
   "outputs": [
    {
     "name": "stdout",
     "output_type": "stream",
     "text": [
      "<class 'pandas.core.frame.DataFrame'>\n",
      "RangeIndex: 15809 entries, 0 to 15808\n",
      "Data columns (total 22 columns):\n",
      " #   Column                                Non-Null Count  Dtype  \n",
      "---  ------                                --------------  -----  \n",
      " 0   id                                    15809 non-null  object \n",
      " 1   title                                 15809 non-null  object \n",
      " 2   publication_year                      15809 non-null  object \n",
      " 3   countries_distinct_count              15809 non-null  float64\n",
      " 4   institutions_distinct_count           15809 non-null  float64\n",
      " 5   referenced_works_count                15809 non-null  float64\n",
      " 6   cited_by_count                        15809 non-null  float64\n",
      " 7   authors_distinct_count                15809 non-null  float64\n",
      " 8   any_author_has_retraction             15809 non-null  int64  \n",
      " 9   min_retracted_author_rank             15809 non-null  float64\n",
      " 10  has_1pct_retracted_author             15809 non-null  int64  \n",
      " 11  has_5pct_retracted_author             15809 non-null  int64  \n",
      " 12  has_10pct_retracted_author            15809 non-null  int64  \n",
      " 13  top_percentile_retracted_author       15809 non-null  float64\n",
      " 14  frac_author_repeat_offenders          15809 non-null  float64\n",
      " 15  any_institution_has_retraction        15809 non-null  int64  \n",
      " 16  min_retracted_institution_rank        15809 non-null  float64\n",
      " 17  has_1pct_retracted_institution        15809 non-null  int64  \n",
      " 18  has_5pct_retracted_institution        15809 non-null  int64  \n",
      " 19  has_10pct_retracted_institution       15809 non-null  int64  \n",
      " 20  top_percentile_retracted_institution  15809 non-null  float64\n",
      " 21  is_retracted                          15809 non-null  int64  \n",
      "dtypes: float64(10), int64(9), object(3)\n",
      "memory usage: 2.7+ MB\n"
     ]
    }
   ],
   "source": [
    "for col in data.columns:\n",
    "    if data[col].dtype == bool:\n",
    "        data[col] = data[col].astype(int)\n",
    "    elif col in ['countries_distinct_count', 'institutions_distinct_count', 'referenced_works_count', 'cited_by_count', 'authors_distinct_count']:\n",
    "        data[col] = data[col].astype(float)\n",
    "\n",
    "data.info()"
   ]
  },
  {
   "cell_type": "code",
   "execution_count": 62,
   "id": "023c4504",
   "metadata": {},
   "outputs": [],
   "source": [
    "#data.min(axis=0)"
   ]
  },
  {
   "cell_type": "markdown",
   "id": "a4008d90",
   "metadata": {},
   "source": [
    "### Preparing Data\n",
    "\n",
    "Splitting data into train and test set, then normalizing float valued features to have mean 0 and standard deviation 1."
   ]
  },
  {
   "cell_type": "code",
   "execution_count": 63,
   "id": "28a7d08b",
   "metadata": {},
   "outputs": [],
   "source": [
    "from sklearn.model_selection import train_test_split"
   ]
  },
  {
   "cell_type": "code",
   "execution_count": 64,
   "id": "abbdad7b",
   "metadata": {},
   "outputs": [],
   "source": [
    "features = ['countries_distinct_count', 'institutions_distinct_count', \n",
    "            'referenced_works_count', 'cited_by_count', 'authors_distinct_count', \n",
    "            'any_author_has_retraction', 'has_1pct_retracted_author',\n",
    "            'has_5pct_retracted_author', 'has_10pct_retracted_author',\n",
    "            'top_percentile_retracted_author',\n",
    "            'frac_author_repeat_offenders',\n",
    "            'has_1pct_retracted_institution',\n",
    "            'top_percentile_retracted_institution', 'is_retracted']"
   ]
  },
  {
   "cell_type": "code",
   "execution_count": 65,
   "id": "90745509",
   "metadata": {},
   "outputs": [],
   "source": [
    "reduced_data = data[features]"
   ]
  },
  {
   "cell_type": "code",
   "execution_count": 66,
   "id": "7b7e7c88",
   "metadata": {},
   "outputs": [],
   "source": [
    "X_train, X_test = train_test_split(reduced_data.copy(), test_size = 0.2, random_state=123)"
   ]
  },
  {
   "cell_type": "code",
   "execution_count": 67,
   "id": "856db1ec",
   "metadata": {},
   "outputs": [
    {
     "data": {
      "text/html": [
       "<div>\n",
       "<style scoped>\n",
       "    .dataframe tbody tr th:only-of-type {\n",
       "        vertical-align: middle;\n",
       "    }\n",
       "\n",
       "    .dataframe tbody tr th {\n",
       "        vertical-align: top;\n",
       "    }\n",
       "\n",
       "    .dataframe thead th {\n",
       "        text-align: right;\n",
       "    }\n",
       "</style>\n",
       "<table border=\"1\" class=\"dataframe\">\n",
       "  <thead>\n",
       "    <tr style=\"text-align: right;\">\n",
       "      <th></th>\n",
       "      <th>countries_distinct_count</th>\n",
       "      <th>institutions_distinct_count</th>\n",
       "      <th>referenced_works_count</th>\n",
       "      <th>cited_by_count</th>\n",
       "      <th>authors_distinct_count</th>\n",
       "      <th>any_author_has_retraction</th>\n",
       "      <th>has_1pct_retracted_author</th>\n",
       "      <th>has_5pct_retracted_author</th>\n",
       "      <th>has_10pct_retracted_author</th>\n",
       "      <th>top_percentile_retracted_author</th>\n",
       "      <th>frac_author_repeat_offenders</th>\n",
       "      <th>has_1pct_retracted_institution</th>\n",
       "      <th>top_percentile_retracted_institution</th>\n",
       "      <th>is_retracted</th>\n",
       "    </tr>\n",
       "  </thead>\n",
       "  <tbody>\n",
       "    <tr>\n",
       "      <th>457</th>\n",
       "      <td>0.516144</td>\n",
       "      <td>0.779455</td>\n",
       "      <td>0.647844</td>\n",
       "      <td>1.516379</td>\n",
       "      <td>2.086320</td>\n",
       "      <td>0</td>\n",
       "      <td>0</td>\n",
       "      <td>0</td>\n",
       "      <td>0</td>\n",
       "      <td>-0.427455</td>\n",
       "      <td>-0.21894</td>\n",
       "      <td>0</td>\n",
       "      <td>0.459733</td>\n",
       "      <td>0</td>\n",
       "    </tr>\n",
       "    <tr>\n",
       "      <th>15248</th>\n",
       "      <td>1.562916</td>\n",
       "      <td>-0.043500</td>\n",
       "      <td>-0.129664</td>\n",
       "      <td>-0.486730</td>\n",
       "      <td>1.633110</td>\n",
       "      <td>0</td>\n",
       "      <td>0</td>\n",
       "      <td>0</td>\n",
       "      <td>0</td>\n",
       "      <td>-0.427455</td>\n",
       "      <td>-0.21894</td>\n",
       "      <td>0</td>\n",
       "      <td>0.207676</td>\n",
       "      <td>0</td>\n",
       "    </tr>\n",
       "    <tr>\n",
       "      <th>2895</th>\n",
       "      <td>-0.530628</td>\n",
       "      <td>-0.866456</td>\n",
       "      <td>0.693580</td>\n",
       "      <td>0.222705</td>\n",
       "      <td>0.273478</td>\n",
       "      <td>0</td>\n",
       "      <td>0</td>\n",
       "      <td>0</td>\n",
       "      <td>0</td>\n",
       "      <td>-0.427455</td>\n",
       "      <td>-0.21894</td>\n",
       "      <td>0</td>\n",
       "      <td>0.247215</td>\n",
       "      <td>0</td>\n",
       "    </tr>\n",
       "    <tr>\n",
       "      <th>7504</th>\n",
       "      <td>-0.530628</td>\n",
       "      <td>-0.043500</td>\n",
       "      <td>-1.273058</td>\n",
       "      <td>-0.180699</td>\n",
       "      <td>-0.179733</td>\n",
       "      <td>0</td>\n",
       "      <td>0</td>\n",
       "      <td>0</td>\n",
       "      <td>0</td>\n",
       "      <td>-0.427455</td>\n",
       "      <td>-0.21894</td>\n",
       "      <td>0</td>\n",
       "      <td>0.459733</td>\n",
       "      <td>0</td>\n",
       "    </tr>\n",
       "    <tr>\n",
       "      <th>5203</th>\n",
       "      <td>-0.530628</td>\n",
       "      <td>-0.866456</td>\n",
       "      <td>-1.227322</td>\n",
       "      <td>-0.041595</td>\n",
       "      <td>-0.859548</td>\n",
       "      <td>0</td>\n",
       "      <td>0</td>\n",
       "      <td>0</td>\n",
       "      <td>0</td>\n",
       "      <td>-0.427455</td>\n",
       "      <td>-0.21894</td>\n",
       "      <td>0</td>\n",
       "      <td>-0.524771</td>\n",
       "      <td>0</td>\n",
       "    </tr>\n",
       "  </tbody>\n",
       "</table>\n",
       "</div>"
      ],
      "text/plain": [
       "       countries_distinct_count  institutions_distinct_count  \\\n",
       "457                    0.516144                     0.779455   \n",
       "15248                  1.562916                    -0.043500   \n",
       "2895                  -0.530628                    -0.866456   \n",
       "7504                  -0.530628                    -0.043500   \n",
       "5203                  -0.530628                    -0.866456   \n",
       "\n",
       "       referenced_works_count  cited_by_count  authors_distinct_count  \\\n",
       "457                  0.647844        1.516379                2.086320   \n",
       "15248               -0.129664       -0.486730                1.633110   \n",
       "2895                 0.693580        0.222705                0.273478   \n",
       "7504                -1.273058       -0.180699               -0.179733   \n",
       "5203                -1.227322       -0.041595               -0.859548   \n",
       "\n",
       "       any_author_has_retraction  has_1pct_retracted_author  \\\n",
       "457                            0                          0   \n",
       "15248                          0                          0   \n",
       "2895                           0                          0   \n",
       "7504                           0                          0   \n",
       "5203                           0                          0   \n",
       "\n",
       "       has_5pct_retracted_author  has_10pct_retracted_author  \\\n",
       "457                            0                           0   \n",
       "15248                          0                           0   \n",
       "2895                           0                           0   \n",
       "7504                           0                           0   \n",
       "5203                           0                           0   \n",
       "\n",
       "       top_percentile_retracted_author  frac_author_repeat_offenders  \\\n",
       "457                          -0.427455                      -0.21894   \n",
       "15248                        -0.427455                      -0.21894   \n",
       "2895                         -0.427455                      -0.21894   \n",
       "7504                         -0.427455                      -0.21894   \n",
       "5203                         -0.427455                      -0.21894   \n",
       "\n",
       "       has_1pct_retracted_institution  top_percentile_retracted_institution  \\\n",
       "457                                 0                              0.459733   \n",
       "15248                               0                              0.207676   \n",
       "2895                                0                              0.247215   \n",
       "7504                                0                              0.459733   \n",
       "5203                                0                             -0.524771   \n",
       "\n",
       "       is_retracted  \n",
       "457               0  \n",
       "15248             0  \n",
       "2895              0  \n",
       "7504              0  \n",
       "5203              0  "
      ]
     },
     "execution_count": 67,
     "metadata": {},
     "output_type": "execute_result"
    }
   ],
   "source": [
    "for col in X_train.columns:\n",
    "    if X_train[col].dtype == float:\n",
    "        mean = X_train[col].mean()\n",
    "        std = X_train[col].std()\n",
    "        X_train[col] = (X_train[col] - mean)/std\n",
    "        X_test[col] = (X_test[col] - mean)/std  \n",
    "\n",
    "X_train.head() \n",
    "X_test.head()\n",
    "#print(X_train.shape)"
   ]
  },
  {
   "cell_type": "markdown",
   "id": "c5fc3d0d",
   "metadata": {},
   "source": [
    "### Model"
   ]
  },
  {
   "cell_type": "code",
   "execution_count": 68,
   "id": "08056d51",
   "metadata": {},
   "outputs": [],
   "source": [
    "from sklearn.linear_model import LogisticRegression"
   ]
  },
  {
   "cell_type": "code",
   "execution_count": 69,
   "id": "f0c4cd2d",
   "metadata": {},
   "outputs": [],
   "source": [
    "model  = LogisticRegression(penalty='l2', solver='newton-cg')"
   ]
  },
  {
   "cell_type": "code",
   "execution_count": 70,
   "id": "0ec9ecdf",
   "metadata": {},
   "outputs": [
    {
     "data": {
      "text/plain": [
       "(12647,)"
      ]
     },
     "execution_count": 70,
     "metadata": {},
     "output_type": "execute_result"
    }
   ],
   "source": [
    "np.ravel(y_train).shape"
   ]
  },
  {
   "cell_type": "code",
   "execution_count": 71,
   "id": "3b05cc46",
   "metadata": {},
   "outputs": [
    {
     "data": {
      "text/html": [
       "<style>#sk-container-id-3 {color: black;background-color: white;}#sk-container-id-3 pre{padding: 0;}#sk-container-id-3 div.sk-toggleable {background-color: white;}#sk-container-id-3 label.sk-toggleable__label {cursor: pointer;display: block;width: 100%;margin-bottom: 0;padding: 0.3em;box-sizing: border-box;text-align: center;}#sk-container-id-3 label.sk-toggleable__label-arrow:before {content: \"▸\";float: left;margin-right: 0.25em;color: #696969;}#sk-container-id-3 label.sk-toggleable__label-arrow:hover:before {color: black;}#sk-container-id-3 div.sk-estimator:hover label.sk-toggleable__label-arrow:before {color: black;}#sk-container-id-3 div.sk-toggleable__content {max-height: 0;max-width: 0;overflow: hidden;text-align: left;background-color: #f0f8ff;}#sk-container-id-3 div.sk-toggleable__content pre {margin: 0.2em;color: black;border-radius: 0.25em;background-color: #f0f8ff;}#sk-container-id-3 input.sk-toggleable__control:checked~div.sk-toggleable__content {max-height: 200px;max-width: 100%;overflow: auto;}#sk-container-id-3 input.sk-toggleable__control:checked~label.sk-toggleable__label-arrow:before {content: \"▾\";}#sk-container-id-3 div.sk-estimator input.sk-toggleable__control:checked~label.sk-toggleable__label {background-color: #d4ebff;}#sk-container-id-3 div.sk-label input.sk-toggleable__control:checked~label.sk-toggleable__label {background-color: #d4ebff;}#sk-container-id-3 input.sk-hidden--visually {border: 0;clip: rect(1px 1px 1px 1px);clip: rect(1px, 1px, 1px, 1px);height: 1px;margin: -1px;overflow: hidden;padding: 0;position: absolute;width: 1px;}#sk-container-id-3 div.sk-estimator {font-family: monospace;background-color: #f0f8ff;border: 1px dotted black;border-radius: 0.25em;box-sizing: border-box;margin-bottom: 0.5em;}#sk-container-id-3 div.sk-estimator:hover {background-color: #d4ebff;}#sk-container-id-3 div.sk-parallel-item::after {content: \"\";width: 100%;border-bottom: 1px solid gray;flex-grow: 1;}#sk-container-id-3 div.sk-label:hover label.sk-toggleable__label {background-color: #d4ebff;}#sk-container-id-3 div.sk-serial::before {content: \"\";position: absolute;border-left: 1px solid gray;box-sizing: border-box;top: 0;bottom: 0;left: 50%;z-index: 0;}#sk-container-id-3 div.sk-serial {display: flex;flex-direction: column;align-items: center;background-color: white;padding-right: 0.2em;padding-left: 0.2em;position: relative;}#sk-container-id-3 div.sk-item {position: relative;z-index: 1;}#sk-container-id-3 div.sk-parallel {display: flex;align-items: stretch;justify-content: center;background-color: white;position: relative;}#sk-container-id-3 div.sk-item::before, #sk-container-id-3 div.sk-parallel-item::before {content: \"\";position: absolute;border-left: 1px solid gray;box-sizing: border-box;top: 0;bottom: 0;left: 50%;z-index: -1;}#sk-container-id-3 div.sk-parallel-item {display: flex;flex-direction: column;z-index: 1;position: relative;background-color: white;}#sk-container-id-3 div.sk-parallel-item:first-child::after {align-self: flex-end;width: 50%;}#sk-container-id-3 div.sk-parallel-item:last-child::after {align-self: flex-start;width: 50%;}#sk-container-id-3 div.sk-parallel-item:only-child::after {width: 0;}#sk-container-id-3 div.sk-dashed-wrapped {border: 1px dashed gray;margin: 0 0.4em 0.5em 0.4em;box-sizing: border-box;padding-bottom: 0.4em;background-color: white;}#sk-container-id-3 div.sk-label label {font-family: monospace;font-weight: bold;display: inline-block;line-height: 1.2em;}#sk-container-id-3 div.sk-label-container {text-align: center;}#sk-container-id-3 div.sk-container {/* jupyter's `normalize.less` sets `[hidden] { display: none; }` but bootstrap.min.css set `[hidden] { display: none !important; }` so we also need the `!important` here to be able to override the default hidden behavior on the sphinx rendered scikit-learn.org. See: https://github.com/scikit-learn/scikit-learn/issues/21755 */display: inline-block !important;position: relative;}#sk-container-id-3 div.sk-text-repr-fallback {display: none;}</style><div id=\"sk-container-id-3\" class=\"sk-top-container\"><div class=\"sk-text-repr-fallback\"><pre>LogisticRegression(solver=&#x27;newton-cg&#x27;)</pre><b>In a Jupyter environment, please rerun this cell to show the HTML representation or trust the notebook. <br />On GitHub, the HTML representation is unable to render, please try loading this page with nbviewer.org.</b></div><div class=\"sk-container\" hidden><div class=\"sk-item\"><div class=\"sk-estimator sk-toggleable\"><input class=\"sk-toggleable__control sk-hidden--visually\" id=\"sk-estimator-id-3\" type=\"checkbox\" checked><label for=\"sk-estimator-id-3\" class=\"sk-toggleable__label sk-toggleable__label-arrow\">LogisticRegression</label><div class=\"sk-toggleable__content\"><pre>LogisticRegression(solver=&#x27;newton-cg&#x27;)</pre></div></div></div></div></div>"
      ],
      "text/plain": [
       "LogisticRegression(solver='newton-cg')"
      ]
     },
     "execution_count": 71,
     "metadata": {},
     "output_type": "execute_result"
    }
   ],
   "source": [
    "model.fit(X_train, np.ravel(y_train))"
   ]
  },
  {
   "cell_type": "code",
   "execution_count": 72,
   "id": "a86a5c65",
   "metadata": {},
   "outputs": [
    {
     "data": {
      "text/plain": [
       "0.0006325110689437065"
      ]
     },
     "execution_count": 72,
     "metadata": {},
     "output_type": "execute_result"
    }
   ],
   "source": [
    "(np.sum(np.abs(np.ravel(y_test) - model.predict(X_test)))/y_test.shape[0])"
   ]
  },
  {
   "cell_type": "code",
   "execution_count": 73,
   "id": "f2df471a",
   "metadata": {},
   "outputs": [
    {
     "data": {
      "text/plain": [
       "(7, 9)"
      ]
     },
     "execution_count": 73,
     "metadata": {},
     "output_type": "execute_result"
    }
   ],
   "source": [
    "np.sum(model.predict(X_test)) , np.sum(np.ravel(y_test))"
   ]
  },
  {
   "cell_type": "code",
   "execution_count": 74,
   "id": "b887dabd",
   "metadata": {},
   "outputs": [
    {
     "data": {
      "text/plain": [
       "0.000395350676049656"
      ]
     },
     "execution_count": 74,
     "metadata": {},
     "output_type": "execute_result"
    }
   ],
   "source": [
    "(np.sum(np.abs(np.ravel(y_train) - model.predict(X_train)))/y_train.shape[0])"
   ]
  },
  {
   "cell_type": "code",
   "execution_count": 75,
   "id": "32fac859",
   "metadata": {},
   "outputs": [
    {
     "data": {
      "text/plain": [
       "(31, 36)"
      ]
     },
     "execution_count": 75,
     "metadata": {},
     "output_type": "execute_result"
    }
   ],
   "source": [
    "np.sum(model.predict(X_train)) , np.sum(np.ravel(y_train))"
   ]
  },
  {
   "cell_type": "code",
   "execution_count": 76,
   "id": "e9d090ad",
   "metadata": {},
   "outputs": [
    {
     "data": {
      "text/plain": [
       "array([[ 7.62385877e-02,  8.33433370e-02,  1.32915260e-04,\n",
       "        -4.94841931e-01,  9.02328689e-02,  9.01083900e-01,\n",
       "        -8.94750612e-02, -3.18774674e-01, -5.17686380e-01,\n",
       "         3.75492163e-01,  3.12237136e-01, -2.25156117e-01,\n",
       "         6.65964456e-02,  6.79807913e+00]])"
      ]
     },
     "execution_count": 76,
     "metadata": {},
     "output_type": "execute_result"
    }
   ],
   "source": [
    "model.coef_"
   ]
  },
  {
   "cell_type": "code",
   "execution_count": 77,
   "id": "76e584da",
   "metadata": {},
   "outputs": [
    {
     "data": {
      "text/plain": [
       "array([-8.11318304])"
      ]
     },
     "execution_count": 77,
     "metadata": {},
     "output_type": "execute_result"
    }
   ],
   "source": [
    "model.intercept_"
   ]
  },
  {
   "cell_type": "markdown",
   "id": "2595473d",
   "metadata": {},
   "source": [
    "Dominant Features"
   ]
  },
  {
   "cell_type": "code",
   "execution_count": 78,
   "id": "77569fdd",
   "metadata": {},
   "outputs": [
    {
     "data": {
      "text/plain": [
       "('cited_by_count', 'any_author_has_retraction')"
      ]
     },
     "execution_count": 78,
     "metadata": {},
     "output_type": "execute_result"
    }
   ],
   "source": [
    "X_train.columns[3], X_train.columns[5]"
   ]
  },
  {
   "cell_type": "markdown",
   "id": "1693ea6a",
   "metadata": {},
   "source": [
    "### Lasso Regularization"
   ]
  },
  {
   "cell_type": "code",
   "execution_count": 79,
   "id": "4313c514",
   "metadata": {},
   "outputs": [],
   "source": [
    "model = LogisticRegression(penalty='l1', solver='liblinear')"
   ]
  },
  {
   "cell_type": "code",
   "execution_count": 80,
   "id": "d452ed35",
   "metadata": {},
   "outputs": [
    {
     "name": "stderr",
     "output_type": "stream",
     "text": [
      "/Users/jackkendrick/anaconda3/lib/python3.11/site-packages/sklearn/utils/validation.py:1143: DataConversionWarning: A column-vector y was passed when a 1d array was expected. Please change the shape of y to (n_samples, ), for example using ravel().\n",
      "  y = column_or_1d(y, warn=True)\n"
     ]
    },
    {
     "data": {
      "text/html": [
       "<style>#sk-container-id-4 {color: black;background-color: white;}#sk-container-id-4 pre{padding: 0;}#sk-container-id-4 div.sk-toggleable {background-color: white;}#sk-container-id-4 label.sk-toggleable__label {cursor: pointer;display: block;width: 100%;margin-bottom: 0;padding: 0.3em;box-sizing: border-box;text-align: center;}#sk-container-id-4 label.sk-toggleable__label-arrow:before {content: \"▸\";float: left;margin-right: 0.25em;color: #696969;}#sk-container-id-4 label.sk-toggleable__label-arrow:hover:before {color: black;}#sk-container-id-4 div.sk-estimator:hover label.sk-toggleable__label-arrow:before {color: black;}#sk-container-id-4 div.sk-toggleable__content {max-height: 0;max-width: 0;overflow: hidden;text-align: left;background-color: #f0f8ff;}#sk-container-id-4 div.sk-toggleable__content pre {margin: 0.2em;color: black;border-radius: 0.25em;background-color: #f0f8ff;}#sk-container-id-4 input.sk-toggleable__control:checked~div.sk-toggleable__content {max-height: 200px;max-width: 100%;overflow: auto;}#sk-container-id-4 input.sk-toggleable__control:checked~label.sk-toggleable__label-arrow:before {content: \"▾\";}#sk-container-id-4 div.sk-estimator input.sk-toggleable__control:checked~label.sk-toggleable__label {background-color: #d4ebff;}#sk-container-id-4 div.sk-label input.sk-toggleable__control:checked~label.sk-toggleable__label {background-color: #d4ebff;}#sk-container-id-4 input.sk-hidden--visually {border: 0;clip: rect(1px 1px 1px 1px);clip: rect(1px, 1px, 1px, 1px);height: 1px;margin: -1px;overflow: hidden;padding: 0;position: absolute;width: 1px;}#sk-container-id-4 div.sk-estimator {font-family: monospace;background-color: #f0f8ff;border: 1px dotted black;border-radius: 0.25em;box-sizing: border-box;margin-bottom: 0.5em;}#sk-container-id-4 div.sk-estimator:hover {background-color: #d4ebff;}#sk-container-id-4 div.sk-parallel-item::after {content: \"\";width: 100%;border-bottom: 1px solid gray;flex-grow: 1;}#sk-container-id-4 div.sk-label:hover label.sk-toggleable__label {background-color: #d4ebff;}#sk-container-id-4 div.sk-serial::before {content: \"\";position: absolute;border-left: 1px solid gray;box-sizing: border-box;top: 0;bottom: 0;left: 50%;z-index: 0;}#sk-container-id-4 div.sk-serial {display: flex;flex-direction: column;align-items: center;background-color: white;padding-right: 0.2em;padding-left: 0.2em;position: relative;}#sk-container-id-4 div.sk-item {position: relative;z-index: 1;}#sk-container-id-4 div.sk-parallel {display: flex;align-items: stretch;justify-content: center;background-color: white;position: relative;}#sk-container-id-4 div.sk-item::before, #sk-container-id-4 div.sk-parallel-item::before {content: \"\";position: absolute;border-left: 1px solid gray;box-sizing: border-box;top: 0;bottom: 0;left: 50%;z-index: -1;}#sk-container-id-4 div.sk-parallel-item {display: flex;flex-direction: column;z-index: 1;position: relative;background-color: white;}#sk-container-id-4 div.sk-parallel-item:first-child::after {align-self: flex-end;width: 50%;}#sk-container-id-4 div.sk-parallel-item:last-child::after {align-self: flex-start;width: 50%;}#sk-container-id-4 div.sk-parallel-item:only-child::after {width: 0;}#sk-container-id-4 div.sk-dashed-wrapped {border: 1px dashed gray;margin: 0 0.4em 0.5em 0.4em;box-sizing: border-box;padding-bottom: 0.4em;background-color: white;}#sk-container-id-4 div.sk-label label {font-family: monospace;font-weight: bold;display: inline-block;line-height: 1.2em;}#sk-container-id-4 div.sk-label-container {text-align: center;}#sk-container-id-4 div.sk-container {/* jupyter's `normalize.less` sets `[hidden] { display: none; }` but bootstrap.min.css set `[hidden] { display: none !important; }` so we also need the `!important` here to be able to override the default hidden behavior on the sphinx rendered scikit-learn.org. See: https://github.com/scikit-learn/scikit-learn/issues/21755 */display: inline-block !important;position: relative;}#sk-container-id-4 div.sk-text-repr-fallback {display: none;}</style><div id=\"sk-container-id-4\" class=\"sk-top-container\"><div class=\"sk-text-repr-fallback\"><pre>LogisticRegression(penalty=&#x27;l1&#x27;, solver=&#x27;liblinear&#x27;)</pre><b>In a Jupyter environment, please rerun this cell to show the HTML representation or trust the notebook. <br />On GitHub, the HTML representation is unable to render, please try loading this page with nbviewer.org.</b></div><div class=\"sk-container\" hidden><div class=\"sk-item\"><div class=\"sk-estimator sk-toggleable\"><input class=\"sk-toggleable__control sk-hidden--visually\" id=\"sk-estimator-id-4\" type=\"checkbox\" checked><label for=\"sk-estimator-id-4\" class=\"sk-toggleable__label sk-toggleable__label-arrow\">LogisticRegression</label><div class=\"sk-toggleable__content\"><pre>LogisticRegression(penalty=&#x27;l1&#x27;, solver=&#x27;liblinear&#x27;)</pre></div></div></div></div></div>"
      ],
      "text/plain": [
       "LogisticRegression(penalty='l1', solver='liblinear')"
      ]
     },
     "execution_count": 80,
     "metadata": {},
     "output_type": "execute_result"
    }
   ],
   "source": [
    "model.fit(X_train, y_train)"
   ]
  },
  {
   "cell_type": "code",
   "execution_count": 81,
   "id": "f1508ab3",
   "metadata": {},
   "outputs": [
    {
     "data": {
      "text/plain": [
       "0.0"
      ]
     },
     "execution_count": 81,
     "metadata": {},
     "output_type": "execute_result"
    }
   ],
   "source": [
    "(np.sum(np.abs(np.ravel(y_test) - model.predict(X_test)))/y_test.shape[0])"
   ]
  },
  {
   "cell_type": "code",
   "execution_count": 82,
   "id": "bca00ae0",
   "metadata": {},
   "outputs": [
    {
     "data": {
      "text/plain": [
       "array([[0.00000000e+00, 0.00000000e+00, 0.00000000e+00, 0.00000000e+00,\n",
       "        0.00000000e+00, 0.00000000e+00, 0.00000000e+00, 0.00000000e+00,\n",
       "        0.00000000e+00, 8.61543966e-03, 2.44668768e-01, 0.00000000e+00,\n",
       "        0.00000000e+00, 1.12523681e+01]])"
      ]
     },
     "execution_count": 82,
     "metadata": {},
     "output_type": "execute_result"
    }
   ],
   "source": [
    "model.coef_"
   ]
  },
  {
   "cell_type": "code",
   "execution_count": 83,
   "id": "980f3fe9",
   "metadata": {},
   "outputs": [
    {
     "data": {
      "text/plain": [
       "array([[9.99855913e-01, 1.44087454e-04],\n",
       "       [9.99855913e-01, 1.44087454e-04],\n",
       "       [9.99855913e-01, 1.44087454e-04],\n",
       "       ...,\n",
       "       [9.99855913e-01, 1.44087454e-04],\n",
       "       [9.99855913e-01, 1.44087454e-04],\n",
       "       [9.99853982e-01, 1.46018259e-04]])"
      ]
     },
     "execution_count": 83,
     "metadata": {},
     "output_type": "execute_result"
    }
   ],
   "source": [
    "model.predict_proba(X_test)"
   ]
  },
  {
   "cell_type": "code",
   "execution_count": 84,
   "id": "3d4e9a4f",
   "metadata": {},
   "outputs": [],
   "source": [
    "from sklearn.metrics import roc_curve"
   ]
  },
  {
   "cell_type": "code",
   "execution_count": null,
   "id": "30e8fade",
   "metadata": {},
   "outputs": [],
   "source": []
  },
  {
   "cell_type": "code",
   "execution_count": 85,
   "id": "9f68f283",
   "metadata": {},
   "outputs": [],
   "source": [
    "import matplotlib.pyplot as plt"
   ]
  },
  {
   "cell_type": "code",
   "execution_count": 86,
   "id": "d4bd848a",
   "metadata": {},
   "outputs": [
    {
     "data": {
      "image/png": "[encoded data removed]",
      "text/plain": [
       "<Figure size 640x480 with 1 Axes>"
      ]
     },
     "metadata": {},
     "output_type": "display_data"
    }
   ],
   "source": [
    "fpr, tpr, thresholds = roc_curve(y_test, model.predict_proba(X_test)[:,1])\n",
    "\n",
    "plt.plot([0,1], [0,1], '--')\n",
    "plt.plot(fpr, tpr)\n",
    "plt.xlabel('False Positive Rate')\n",
    "plt.ylabel('True Positive Rate')\n",
    "plt.title('ROC Curve')\n",
    "plt.show()"
   ]
  },
  {
   "cell_type": "code",
   "execution_count": 90,
   "id": "b6783b64",
   "metadata": {},
   "outputs": [],
   "source": [
    "from sklearn.model_selection import KFold\n",
    "from sklearn.metrics import accuracy_score\n",
    "from sklearn.svm import SVC"
   ]
  },
  {
   "cell_type": "markdown",
   "id": "4db1cfd8",
   "metadata": {},
   "source": [
    "- Baseline model will predict no retraction for all papers. \n",
    "- Model 1: Any author retracted, fraction of repeat offenders, any institution in top 1%, and top percentile of institution\n",
    "- Model 2: Top 1% author, fraction of repeat offenders, any institution in top 1%, and top percentile of institution\n",
    "- Model 3: Top 5% author, fraction of repeat offenders, any institution in top 1%, and top percentile of institution\n",
    "- Model 4: Top 10% author, fraction of repeat offenders, any institution in top 1%, and top percentile of institution\n",
    "- Model 5: Top percentile of authors, fraction of repeat offenders, any institution in top 1%, and top percentile of institution"
   ]
  },
  {
   "cell_type": "code",
   "execution_count": 132,
   "id": "2ed57977",
   "metadata": {},
   "outputs": [],
   "source": [
    "features = ['countries_distinct_count', 'institutions_distinct_count', \n",
    "            'referenced_works_count', 'cited_by_count', 'authors_distinct_count', \n",
    "            'any_author_has_retraction', 'has_1pct_retracted_author',\n",
    "            'has_5pct_retracted_author', 'has_10pct_retracted_author',\n",
    "            'top_percentile_retracted_author',\n",
    "            'frac_author_repeat_offenders',\n",
    "            'has_1pct_retracted_institution',\n",
    "            'top_percentile_retracted_institution']\n",
    "\n",
    "features1 = ['countries_distinct_count', 'institutions_distinct_count', \n",
    "            'referenced_works_count', 'authors_distinct_count', \n",
    "            'any_author_has_retraction',\n",
    "            'frac_author_repeat_offenders',\n",
    "            'has_1pct_retracted_institution',\n",
    "            'top_percentile_retracted_institution']\n",
    "features2 = ['countries_distinct_count', 'institutions_distinct_count', \n",
    "            'referenced_works_count', 'cited_by_count', 'authors_distinct_count', \n",
    "            'has_1pct_retracted_author',\n",
    "            'frac_author_repeat_offenders',\n",
    "            'has_1pct_retracted_institution',\n",
    "            'top_percentile_retracted_institution']\n",
    "features3 = ['countries_distinct_count', 'institutions_distinct_count', \n",
    "            'referenced_works_count', 'cited_by_count', 'authors_distinct_count', \n",
    "            'has_5pct_retracted_author',\n",
    "            'frac_author_repeat_offenders',\n",
    "            'has_1pct_retracted_institution',\n",
    "            'top_percentile_retracted_institution']\n",
    "features4 = ['countries_distinct_count', 'institutions_distinct_count', \n",
    "            'referenced_works_count', 'cited_by_count', 'authors_distinct_count', \n",
    "            'has_10pct_retracted_author',\n",
    "            'frac_author_repeat_offenders',\n",
    "            'has_1pct_retracted_institution',\n",
    "            'top_percentile_retracted_institution']\n",
    "features5 = ['countries_distinct_count', 'institutions_distinct_count', \n",
    "            'referenced_works_count', 'cited_by_count', 'authors_distinct_count', \n",
    "            'top_percentile_retracted_author',\n",
    "            'frac_author_repeat_offenders',\n",
    "            'has_1pct_retracted_institution',\n",
    "            'top_percentile_retracted_institution']"
   ]
  },
  {
   "cell_type": "code",
   "execution_count": 135,
   "id": "c1dcc4d8",
   "metadata": {},
   "outputs": [
    {
     "name": "stderr",
     "output_type": "stream",
     "text": [
      "/Users/jackkendrick/anaconda3/lib/python3.11/site-packages/sklearn/utils/validation.py:1143: DataConversionWarning: A column-vector y was passed when a 1d array was expected. Please change the shape of y to (n_samples, ), for example using ravel().\n",
      "  y = column_or_1d(y, warn=True)\n",
      "/Users/jackkendrick/anaconda3/lib/python3.11/site-packages/sklearn/utils/validation.py:1143: DataConversionWarning: A column-vector y was passed when a 1d array was expected. Please change the shape of y to (n_samples, ), for example using ravel().\n",
      "  y = column_or_1d(y, warn=True)\n",
      "/Users/jackkendrick/anaconda3/lib/python3.11/site-packages/sklearn/utils/validation.py:1143: DataConversionWarning: A column-vector y was passed when a 1d array was expected. Please change the shape of y to (n_samples, ), for example using ravel().\n",
      "  y = column_or_1d(y, warn=True)\n",
      "/Users/jackkendrick/anaconda3/lib/python3.11/site-packages/sklearn/utils/validation.py:1143: DataConversionWarning: A column-vector y was passed when a 1d array was expected. Please change the shape of y to (n_samples, ), for example using ravel().\n",
      "  y = column_or_1d(y, warn=True)\n",
      "/Users/jackkendrick/anaconda3/lib/python3.11/site-packages/sklearn/utils/validation.py:1143: DataConversionWarning: A column-vector y was passed when a 1d array was expected. Please change the shape of y to (n_samples, ), for example using ravel().\n",
      "  y = column_or_1d(y, warn=True)\n",
      "/Users/jackkendrick/anaconda3/lib/python3.11/site-packages/sklearn/utils/validation.py:1143: DataConversionWarning: A column-vector y was passed when a 1d array was expected. Please change the shape of y to (n_samples, ), for example using ravel().\n",
      "  y = column_or_1d(y, warn=True)\n",
      "/Users/jackkendrick/anaconda3/lib/python3.11/site-packages/sklearn/utils/validation.py:1143: DataConversionWarning: A column-vector y was passed when a 1d array was expected. Please change the shape of y to (n_samples, ), for example using ravel().\n",
      "  y = column_or_1d(y, warn=True)\n",
      "/Users/jackkendrick/anaconda3/lib/python3.11/site-packages/sklearn/utils/validation.py:1143: DataConversionWarning: A column-vector y was passed when a 1d array was expected. Please change the shape of y to (n_samples, ), for example using ravel().\n",
      "  y = column_or_1d(y, warn=True)\n",
      "/Users/jackkendrick/anaconda3/lib/python3.11/site-packages/sklearn/utils/validation.py:1143: DataConversionWarning: A column-vector y was passed when a 1d array was expected. Please change the shape of y to (n_samples, ), for example using ravel().\n",
      "  y = column_or_1d(y, warn=True)\n",
      "/Users/jackkendrick/anaconda3/lib/python3.11/site-packages/sklearn/utils/validation.py:1143: DataConversionWarning: A column-vector y was passed when a 1d array was expected. Please change the shape of y to (n_samples, ), for example using ravel().\n",
      "  y = column_or_1d(y, warn=True)\n"
     ]
    }
   ],
   "source": [
    "kfold = KFold(n_splits = 10, shuffle=True, random_state=123)\n",
    "\n",
    "accuracies = np.zeros((9, 10))\n",
    "\n",
    "i = 0\n",
    "\n",
    "for train_index, test_index in kfold.split(X_train):\n",
    "    X_tt = X_train.iloc[train_index]\n",
    "    X_val = X_train.iloc[test_index]\n",
    "\n",
    "    # Baseline Model\n",
    "    baseline = np.zeros(len(X_val))\n",
    "\n",
    "    accuracies[0, i] = accuracy_score(X_val.is_retracted, baseline)\n",
    "\n",
    "    # Model 1\n",
    "\n",
    "    model  = LogisticRegression(penalty='l2', solver='newton-cg')\n",
    "    model.fit(X_tt[features1], X_tt.is_retracted.values)\n",
    "\n",
    "    accuracies[1, i] = accuracy_score(X_val.is_retracted.values, model.predict(X_val[features1]))\n",
    "\n",
    "    # Model 2\n",
    "\n",
    "    model  = LogisticRegression(penalty='l2', solver='newton-cg')\n",
    "    model.fit(X_tt[features2], X_tt.is_retracted.values)\n",
    "\n",
    "    accuracies[2, i] = accuracy_score(X_val.is_retracted.values, model.predict(X_val[features2]))\n",
    "\n",
    "    # Model 3\n",
    "\n",
    "    model  = LogisticRegression(penalty='l2', solver='newton-cg')\n",
    "    model.fit(X_tt[features3], X_tt.is_retracted.values)\n",
    "\n",
    "    accuracies[3, i] = accuracy_score(X_val.is_retracted.values, model.predict(X_val[features3]))\n",
    "\n",
    "    # Model 4\n",
    "\n",
    "    model  = LogisticRegression(penalty='l2', solver='newton-cg')\n",
    "    model.fit(X_tt[features4], X_tt.is_retracted.values)\n",
    "\n",
    "    accuracies[4, i] = accuracy_score(X_val.is_retracted.values, model.predict(X_val[features4]))\n",
    "\n",
    "    # Model 5 \n",
    "\n",
    "    model  = LogisticRegression(penalty='l2', solver='newton-cg')\n",
    "    model.fit(X_tt[features5], X_tt.is_retracted.values)\n",
    "\n",
    "    accuracies[5, i] = accuracy_score(X_val.is_retracted.values, model.predict(X_val[features5]))\n",
    "\n",
    "    # Model 6 \n",
    "\n",
    "    model  = LogisticRegression(penalty='l2', solver='newton-cg')\n",
    "    model.fit(X_tt[features], X_tt.is_retracted.values)\n",
    "\n",
    "    accuracies[6, i] = accuracy_score(X_val.is_retracted.values, model.predict(X_val[features]))\n",
    "\n",
    "    # Model 7\n",
    "\n",
    "    model = LogisticRegression(penalty='l2', solver='newton-cg')\n",
    "    model.fit(X_tt['frac_author_repeat_offenders'].values.reshape(-1,1), X_tt.is_retracted.values.reshape(-1,1))\n",
    "\n",
    "    accuracies[7, i] = accuracy_score(X_val.is_retracted.values, model.predict(X_val['frac_author_repeat_offenders'].values.reshape(-1,1)))\n",
    "\n",
    "    # SVM\n",
    "\n",
    "    model = SVC(kernel='rbf')\n",
    "    model.fit(X_tt[features1], X_tt.is_retracted.values)\n",
    "\n",
    "    accuracies[8, i] = accuracy_score(X_val.is_retracted.values, model.predict(X_val[features1]))\n",
    "\n",
    "    i +=1"
   ]
  },
  {
   "cell_type": "code",
   "execution_count": 136,
   "id": "c55fa116",
   "metadata": {},
   "outputs": [
    {
     "name": "stdout",
     "output_type": "stream",
     "text": [
      "Baseline Accuracy: 0.9971530870065543\n",
      "Model 1 Accuracy: 0.9972322009306049\n",
      "Model 2 Accuracy: 0.997390116075449\n",
      "Model 3 Accuracy: 0.9974692299994995\n",
      "Model 4 Accuracy: 0.9974692299994995\n",
      "Model 5 Accuracy: 0.9974693550808025\n",
      "Model 6 Accuracy: 0.9975484064642017\n",
      "Model 7 Accuracy: 0.9973111897733526\n",
      "SVM Accuracy: 0.9976273953069494\n"
     ]
    }
   ],
   "source": [
    "print(\"Baseline Accuracy:\", np.mean(accuracies[0,:]))\n",
    "print(\"Model 1 Accuracy:\", np.mean(accuracies[1,:]))\n",
    "print(\"Model 2 Accuracy:\", np.mean(accuracies[2,:]))\n",
    "print(\"Model 3 Accuracy:\", np.mean(accuracies[3,:]))\n",
    "print(\"Model 4 Accuracy:\", np.mean(accuracies[4,:]))\n",
    "print(\"Model 5 Accuracy:\", np.mean(accuracies[5,:]))\n",
    "print(\"Model 6 Accuracy:\", np.mean(accuracies[6,:]))\n",
    "print(\"Model 7 Accuracy:\", np.mean(accuracies[7,:]))\n",
    "print(\"SVM Accuracy:\", np.mean(accuracies[8,:]))\n"
   ]
  },
  {
   "cell_type": "code",
   "execution_count": 137,
   "id": "2afef172",
   "metadata": {},
   "outputs": [
    {
     "data": {
      "text/plain": [
       "0.997786211258697"
      ]
     },
     "execution_count": 137,
     "metadata": {},
     "output_type": "execute_result"
    }
   ],
   "source": [
    "model  = SVC(kernel='rbf')\n",
    "\n",
    "model.fit(X_train[features1], X_train.is_retracted.values)\n",
    "\n",
    "accuracy_score(X_test.is_retracted.values, model.predict(X_test[features1]))"
   ]
  },
  {
   "cell_type": "code",
   "execution_count": 133,
   "id": "bd4a9311",
   "metadata": {},
   "outputs": [
    {
     "data": {
      "text/html": [
       "<style>#sk-container-id-7 {color: black;background-color: white;}#sk-container-id-7 pre{padding: 0;}#sk-container-id-7 div.sk-toggleable {background-color: white;}#sk-container-id-7 label.sk-toggleable__label {cursor: pointer;display: block;width: 100%;margin-bottom: 0;padding: 0.3em;box-sizing: border-box;text-align: center;}#sk-container-id-7 label.sk-toggleable__label-arrow:before {content: \"▸\";float: left;margin-right: 0.25em;color: #696969;}#sk-container-id-7 label.sk-toggleable__label-arrow:hover:before {color: black;}#sk-container-id-7 div.sk-estimator:hover label.sk-toggleable__label-arrow:before {color: black;}#sk-container-id-7 div.sk-toggleable__content {max-height: 0;max-width: 0;overflow: hidden;text-align: left;background-color: #f0f8ff;}#sk-container-id-7 div.sk-toggleable__content pre {margin: 0.2em;color: black;border-radius: 0.25em;background-color: #f0f8ff;}#sk-container-id-7 input.sk-toggleable__control:checked~div.sk-toggleable__content {max-height: 200px;max-width: 100%;overflow: auto;}#sk-container-id-7 input.sk-toggleable__control:checked~label.sk-toggleable__label-arrow:before {content: \"▾\";}#sk-container-id-7 div.sk-estimator input.sk-toggleable__control:checked~label.sk-toggleable__label {background-color: #d4ebff;}#sk-container-id-7 div.sk-label input.sk-toggleable__control:checked~label.sk-toggleable__label {background-color: #d4ebff;}#sk-container-id-7 input.sk-hidden--visually {border: 0;clip: rect(1px 1px 1px 1px);clip: rect(1px, 1px, 1px, 1px);height: 1px;margin: -1px;overflow: hidden;padding: 0;position: absolute;width: 1px;}#sk-container-id-7 div.sk-estimator {font-family: monospace;background-color: #f0f8ff;border: 1px dotted black;border-radius: 0.25em;box-sizing: border-box;margin-bottom: 0.5em;}#sk-container-id-7 div.sk-estimator:hover {background-color: #d4ebff;}#sk-container-id-7 div.sk-parallel-item::after {content: \"\";width: 100%;border-bottom: 1px solid gray;flex-grow: 1;}#sk-container-id-7 div.sk-label:hover label.sk-toggleable__label {background-color: #d4ebff;}#sk-container-id-7 div.sk-serial::before {content: \"\";position: absolute;border-left: 1px solid gray;box-sizing: border-box;top: 0;bottom: 0;left: 50%;z-index: 0;}#sk-container-id-7 div.sk-serial {display: flex;flex-direction: column;align-items: center;background-color: white;padding-right: 0.2em;padding-left: 0.2em;position: relative;}#sk-container-id-7 div.sk-item {position: relative;z-index: 1;}#sk-container-id-7 div.sk-parallel {display: flex;align-items: stretch;justify-content: center;background-color: white;position: relative;}#sk-container-id-7 div.sk-item::before, #sk-container-id-7 div.sk-parallel-item::before {content: \"\";position: absolute;border-left: 1px solid gray;box-sizing: border-box;top: 0;bottom: 0;left: 50%;z-index: -1;}#sk-container-id-7 div.sk-parallel-item {display: flex;flex-direction: column;z-index: 1;position: relative;background-color: white;}#sk-container-id-7 div.sk-parallel-item:first-child::after {align-self: flex-end;width: 50%;}#sk-container-id-7 div.sk-parallel-item:last-child::after {align-self: flex-start;width: 50%;}#sk-container-id-7 div.sk-parallel-item:only-child::after {width: 0;}#sk-container-id-7 div.sk-dashed-wrapped {border: 1px dashed gray;margin: 0 0.4em 0.5em 0.4em;box-sizing: border-box;padding-bottom: 0.4em;background-color: white;}#sk-container-id-7 div.sk-label label {font-family: monospace;font-weight: bold;display: inline-block;line-height: 1.2em;}#sk-container-id-7 div.sk-label-container {text-align: center;}#sk-container-id-7 div.sk-container {/* jupyter's `normalize.less` sets `[hidden] { display: none; }` but bootstrap.min.css set `[hidden] { display: none !important; }` so we also need the `!important` here to be able to override the default hidden behavior on the sphinx rendered scikit-learn.org. See: https://github.com/scikit-learn/scikit-learn/issues/21755 */display: inline-block !important;position: relative;}#sk-container-id-7 div.sk-text-repr-fallback {display: none;}</style><div id=\"sk-container-id-7\" class=\"sk-top-container\"><div class=\"sk-text-repr-fallback\"><pre>LogisticRegression(solver=&#x27;newton-cg&#x27;)</pre><b>In a Jupyter environment, please rerun this cell to show the HTML representation or trust the notebook. <br />On GitHub, the HTML representation is unable to render, please try loading this page with nbviewer.org.</b></div><div class=\"sk-container\" hidden><div class=\"sk-item\"><div class=\"sk-estimator sk-toggleable\"><input class=\"sk-toggleable__control sk-hidden--visually\" id=\"sk-estimator-id-7\" type=\"checkbox\" checked><label for=\"sk-estimator-id-7\" class=\"sk-toggleable__label sk-toggleable__label-arrow\">LogisticRegression</label><div class=\"sk-toggleable__content\"><pre>LogisticRegression(solver=&#x27;newton-cg&#x27;)</pre></div></div></div></div></div>"
      ],
      "text/plain": [
       "LogisticRegression(solver='newton-cg')"
      ]
     },
     "execution_count": 133,
     "metadata": {},
     "output_type": "execute_result"
    }
   ],
   "source": [
    "model  = LogisticRegression(penalty='l2', solver='newton-cg')\n",
    "model.fit(X_train[features1], X_train.is_retracted.values)\n"
   ]
  },
  {
   "cell_type": "code",
   "execution_count": 134,
   "id": "7cb99692",
   "metadata": {},
   "outputs": [
    {
     "data": {
      "text/plain": [
       "array([[0.06712806, 0.16832832, 0.11624601, 0.09311527, 1.69193167,\n",
       "        0.54579566, 0.08445239, 0.04913872]])"
      ]
     },
     "execution_count": 134,
     "metadata": {},
     "output_type": "execute_result"
    }
   ],
   "source": [
    "model.coef_"
   ]
  },
  {
   "cell_type": "code",
   "execution_count": 131,
   "id": "72ed98c7",
   "metadata": {},
   "outputs": [
    {
     "data": {
      "text/plain": [
       "('cited_by_count', 'has_1pct_retracted_author')"
      ]
     },
     "execution_count": 131,
     "metadata": {},
     "output_type": "execute_result"
    }
   ],
   "source": [
    "features2[3], features2[5]"
   ]
  },
  {
   "cell_type": "code",
   "execution_count": null,
   "id": "270817e9",
   "metadata": {},
   "outputs": [],
   "source": []
  }
 ],
 "metadata": {
  "kernelspec": {
   "display_name": "Python 3 (ipykernel)",
   "language": "python",
   "name": "python3"
  },
  "language_info": {
   "codemirror_mode": {
    "name": "ipython",
    "version": 3
   },
   "file_extension": ".py",
   "mimetype": "text/x-python",
   "name": "python",
   "nbconvert_exporter": "python",
   "pygments_lexer": "ipython3",
   "version": "3.11.5"
  }
 },
 "nbformat": 4,
 "nbformat_minor": 5
}
